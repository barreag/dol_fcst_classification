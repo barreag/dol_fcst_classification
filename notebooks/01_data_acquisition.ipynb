{
 "cells": [
  {
   "cell_type": "markdown",
   "id": "31d92d35",
   "metadata": {},
   "source": [
    "# Step 1: Data Acquisition\n",
    "\n",
    "## Objective\n",
    "Download historical USD/BRL (BRL=X) exchange rate data from Yahoo Finance and prepare it for feature engineering.\n",
    "\n",
    "## Process\n",
    "1. Import required libraries\n",
    "2. Download daily BRL=X data from 2010 to present\n",
    "3. Clean and standardize column names\n",
    "4. Remove unnecessary columns (Volume)\n",
    "5. Save to `data/raw/` directory\n",
    "\n",
    "## Output\n",
    "- `data/raw/BRL_X_raw.csv`: Raw OHLC (Open, High, Low, Close) data with Date index\n",
    "\n",
    "## Data Source\n",
    "- Provider: Yahoo Finance\n",
    "- Ticker: BRL=X (USD/BRL exchange rate)\n",
    "- Frequency: Daily\n",
    "- Start Date: 2010-01-01"
   ]
  },
  {
   "cell_type": "code",
   "execution_count": 1,
   "id": "251d88df",
   "metadata": {},
   "outputs": [
    {
     "name": "stdout",
     "output_type": "stream",
     "text": [
      "Data acquisition started at: 2025-10-25 10:51:49\n"
     ]
    }
   ],
   "source": [
    "# Import required libraries\n",
    "import os\n",
    "import pandas as pd\n",
    "import yfinance as yf\n",
    "from datetime import datetime\n",
    "\n",
    "print(f\"Data acquisition started at: {datetime.now().strftime('%Y-%m-%d %H:%M:%S')}\")"
   ]
  },
  {
   "cell_type": "code",
   "execution_count": 2,
   "id": "e4d52723",
   "metadata": {},
   "outputs": [
    {
     "name": "stdout",
     "output_type": "stream",
     "text": [
      "Configuration:\n",
      "  Ticker: BRL=X\n",
      "  Start Date: 2010-01-01\n",
      "  Interval: 1d\n"
     ]
    }
   ],
   "source": [
    "# Define configuration parameters\n",
    "TICKER = 'BRL=X'  # USD/BRL exchange rate\n",
    "START_DATE = '2010-01-01'  # Start from 2010 for sufficient historical data\n",
    "INTERVAL = '1d'  # Daily data\n",
    "\n",
    "print(f\"Configuration:\")\n",
    "print(f\"  Ticker: {TICKER}\")\n",
    "print(f\"  Start Date: {START_DATE}\")\n",
    "print(f\"  Interval: {INTERVAL}\")"
   ]
  },
  {
   "cell_type": "code",
   "execution_count": 3,
   "id": "a013cc84",
   "metadata": {},
   "outputs": [
    {
     "name": "stderr",
     "output_type": "stream",
     "text": [
      "C:\\Users\\TZCYT0\\AppData\\Local\\Temp\\ipykernel_27452\\800119336.py:2: FutureWarning: YF.download() has changed argument auto_adjust default to True\n",
      "  data = yf.download(TICKER, start=START_DATE, interval=INTERVAL)\n",
      "[*********************100%***********************]  1 of 1 completed"
     ]
    },
    {
     "name": "stdout",
     "output_type": "stream",
     "text": [
      "Downloaded 4116 records from 2010-01-04 to 2025-10-24\n"
     ]
    },
    {
     "name": "stderr",
     "output_type": "stream",
     "text": [
      "\n"
     ]
    }
   ],
   "source": [
    "# Download BRL=X data from Yahoo Finance starting from 2010\n",
    "data = yf.download(TICKER, start=START_DATE, interval=INTERVAL)\n",
    "\n",
    "# Reset index to make Date a column, then set it back as index\n",
    "# This ensures proper handling of the Date column\n",
    "data.reset_index(inplace=True)\n",
    "data.set_index('Date', inplace=True)\n",
    "\n",
    "print(f\"Downloaded {len(data)} records from {data.index.min().strftime('%Y-%m-%d')} to {data.index.max().strftime('%Y-%m-%d')}\")"
   ]
  },
  {
   "cell_type": "code",
   "execution_count": 4,
   "id": "a61c19bd",
   "metadata": {},
   "outputs": [
    {
     "name": "stdout",
     "output_type": "stream",
     "text": [
      "Original columns: [('Close', 'BRL=X'), ('High', 'BRL=X'), ('Low', 'BRL=X'), ('Open', 'BRL=X'), ('Volume', 'BRL=X')]\n",
      "Cleaned columns: ['Close', 'High', 'Low', 'Open', 'Volume']\n",
      "Volume column removed (not applicable for forex data)\n",
      "\n",
      "Dataset shape: (4116, 4)\n",
      "Date range: 2010-01-04 to 2025-10-24\n",
      "\n",
      "Data types:\n",
      "Close    float64\n",
      "High     float64\n",
      "Low      float64\n",
      "Open     float64\n",
      "dtype: object\n",
      "\n",
      "Missing values:\n",
      "Close    0\n",
      "High     0\n",
      "Low      0\n",
      "Open     0\n",
      "dtype: int64\n"
     ]
    }
   ],
   "source": [
    "# Clean column names\n",
    "# Yahoo Finance may return multi-index columns or columns with ticker prefix\n",
    "def clean_column_name(col):\n",
    "    \"\"\"\n",
    "    Standardize column names by:\n",
    "    - Converting tuples to strings\n",
    "    - Removing ticker symbols and special characters\n",
    "    - Removing underscores and spaces\n",
    "    \n",
    "    Args:\n",
    "        col: Column name (can be string or tuple)\n",
    "    \n",
    "    Returns:\n",
    "        Cleaned column name as string\n",
    "    \"\"\"\n",
    "    if isinstance(col, tuple):\n",
    "        col = '_'.join([str(c) for c in col])\n",
    "    col = str(col)\n",
    "    # Remove ticker symbol and special characters\n",
    "    col = col.replace(TICKER, '').replace('=', '').replace('_', '').replace(' ', '')\n",
    "    return col\n",
    "\n",
    "# Show original column names\n",
    "print(f\"Original columns: {list(data.columns)}\")\n",
    "\n",
    "# Apply cleaning\n",
    "data.columns = [clean_column_name(col) for col in data.columns]\n",
    "print(f\"Cleaned columns: {list(data.columns)}\")\n",
    "\n",
    "# Remove Volume column if present (Volume is not meaningful for forex pairs)\n",
    "if 'Volume' in data.columns:\n",
    "    data.drop('Volume', axis=1, inplace=True)\n",
    "    print(\"Volume column removed (not applicable for forex data)\")\n",
    "\n",
    "# Display data information\n",
    "print(f\"\\nDataset shape: {data.shape}\")\n",
    "print(f\"Date range: {data.index.min().strftime('%Y-%m-%d')} to {data.index.max().strftime('%Y-%m-%d')}\")\n",
    "print(f\"\\nData types:\\n{data.dtypes}\")\n",
    "print(f\"\\nMissing values:\\n{data.isnull().sum()}\")"
   ]
  },
  {
   "cell_type": "code",
   "execution_count": 5,
   "id": "27f8f0c8",
   "metadata": {},
   "outputs": [
    {
     "name": "stdout",
     "output_type": "stream",
     "text": [
      "First 5 rows of the dataset:\n"
     ]
    },
    {
     "data": {
      "application/vnd.microsoft.datawrangler.viewer.v0+json": {
       "columns": [
        {
         "name": "Date",
         "rawType": "datetime64[ns]",
         "type": "datetime"
        },
        {
         "name": "Close",
         "rawType": "float64",
         "type": "float"
        },
        {
         "name": "High",
         "rawType": "float64",
         "type": "float"
        },
        {
         "name": "Low",
         "rawType": "float64",
         "type": "float"
        },
        {
         "name": "Open",
         "rawType": "float64",
         "type": "float"
        }
       ],
       "ref": "6b1f2e13-6afa-447d-85af-49c752da323e",
       "rows": [
        [
         "2010-01-04 00:00:00",
         "1.718999981880188",
         "1.7411999702453613",
         "1.6722999811172485",
         "1.6929999589920044"
        ],
        [
         "2010-01-05 00:00:00",
         "1.7369999885559082",
         "1.7369999885559082",
         "1.6713000535964966",
         "1.6713000535964966"
        ],
        [
         "2010-01-06 00:00:00",
         "1.7315000295639038",
         "1.7359000444412231",
         "1.679800033569336",
         "1.679800033569336"
        ],
        [
         "2010-01-07 00:00:00",
         "1.7388999462127686",
         "1.7472000122070312",
         "1.6805000305175781",
         "1.7242000102996826"
        ],
        [
         "2010-01-08 00:00:00",
         "1.7319999933242798",
         "1.7491999864578247",
         "1.6953999996185303",
         "1.6953999996185303"
        ]
       ],
       "shape": {
        "columns": 4,
        "rows": 5
       }
      },
      "text/html": [
       "<div>\n",
       "<style scoped>\n",
       "    .dataframe tbody tr th:only-of-type {\n",
       "        vertical-align: middle;\n",
       "    }\n",
       "\n",
       "    .dataframe tbody tr th {\n",
       "        vertical-align: top;\n",
       "    }\n",
       "\n",
       "    .dataframe thead th {\n",
       "        text-align: right;\n",
       "    }\n",
       "</style>\n",
       "<table border=\"1\" class=\"dataframe\">\n",
       "  <thead>\n",
       "    <tr style=\"text-align: right;\">\n",
       "      <th></th>\n",
       "      <th>Close</th>\n",
       "      <th>High</th>\n",
       "      <th>Low</th>\n",
       "      <th>Open</th>\n",
       "    </tr>\n",
       "    <tr>\n",
       "      <th>Date</th>\n",
       "      <th></th>\n",
       "      <th></th>\n",
       "      <th></th>\n",
       "      <th></th>\n",
       "    </tr>\n",
       "  </thead>\n",
       "  <tbody>\n",
       "    <tr>\n",
       "      <th>2010-01-04</th>\n",
       "      <td>1.7190</td>\n",
       "      <td>1.7412</td>\n",
       "      <td>1.6723</td>\n",
       "      <td>1.6930</td>\n",
       "    </tr>\n",
       "    <tr>\n",
       "      <th>2010-01-05</th>\n",
       "      <td>1.7370</td>\n",
       "      <td>1.7370</td>\n",
       "      <td>1.6713</td>\n",
       "      <td>1.6713</td>\n",
       "    </tr>\n",
       "    <tr>\n",
       "      <th>2010-01-06</th>\n",
       "      <td>1.7315</td>\n",
       "      <td>1.7359</td>\n",
       "      <td>1.6798</td>\n",
       "      <td>1.6798</td>\n",
       "    </tr>\n",
       "    <tr>\n",
       "      <th>2010-01-07</th>\n",
       "      <td>1.7389</td>\n",
       "      <td>1.7472</td>\n",
       "      <td>1.6805</td>\n",
       "      <td>1.7242</td>\n",
       "    </tr>\n",
       "    <tr>\n",
       "      <th>2010-01-08</th>\n",
       "      <td>1.7320</td>\n",
       "      <td>1.7492</td>\n",
       "      <td>1.6954</td>\n",
       "      <td>1.6954</td>\n",
       "    </tr>\n",
       "  </tbody>\n",
       "</table>\n",
       "</div>"
      ],
      "text/plain": [
       "             Close    High     Low    Open\n",
       "Date                                      \n",
       "2010-01-04  1.7190  1.7412  1.6723  1.6930\n",
       "2010-01-05  1.7370  1.7370  1.6713  1.6713\n",
       "2010-01-06  1.7315  1.7359  1.6798  1.6798\n",
       "2010-01-07  1.7389  1.7472  1.6805  1.7242\n",
       "2010-01-08  1.7320  1.7492  1.6954  1.6954"
      ]
     },
     "execution_count": 5,
     "metadata": {},
     "output_type": "execute_result"
    }
   ],
   "source": [
    "# Display first few rows of the data\n",
    "print(\"First 5 rows of the dataset:\")\n",
    "data.head()"
   ]
  },
  {
   "cell_type": "code",
   "execution_count": 6,
   "id": "479dad12",
   "metadata": {},
   "outputs": [
    {
     "name": "stdout",
     "output_type": "stream",
     "text": [
      "Raw data saved to ../data/raw/BRL_X_raw.csv (Date column saved as index)\n"
     ]
    }
   ],
   "source": [
    "# Save raw data to data/raw/\n",
    "raw_data_dir = '../data/raw/'\n",
    "os.makedirs(raw_data_dir, exist_ok=True)\n",
    "data.to_csv(os.path.join(raw_data_dir, 'BRL_X_raw.csv'), index=True)\n",
    "print(f'Raw data saved to {os.path.join(raw_data_dir, \"BRL_X_raw.csv\")} (Date column saved as index)')"
   ]
  },
  {
   "cell_type": "code",
   "execution_count": 7,
   "id": "61a63102",
   "metadata": {},
   "outputs": [
    {
     "name": "stdout",
     "output_type": "stream",
     "text": [
      "Random sample of 5 records:\n"
     ]
    },
    {
     "data": {
      "application/vnd.microsoft.datawrangler.viewer.v0+json": {
       "columns": [
        {
         "name": "Date",
         "rawType": "datetime64[ns]",
         "type": "datetime"
        },
        {
         "name": "Close",
         "rawType": "float64",
         "type": "float"
        },
        {
         "name": "High",
         "rawType": "float64",
         "type": "float"
        },
        {
         "name": "Low",
         "rawType": "float64",
         "type": "float"
        },
        {
         "name": "Open",
         "rawType": "float64",
         "type": "float"
        }
       ],
       "ref": "7a6a2607-7d50-4b9e-be08-2862d059446f",
       "rows": [
        [
         "2011-08-12 00:00:00",
         "1.6232999563217163",
         "1.6253000497817993",
         "1.6045000553131104",
         "1.6224000453948975"
        ],
        [
         "2012-05-25 00:00:00",
         "2.027400016784668",
         "2.0360000133514404",
         "1.9881000518798828",
         "2.0271999835968018"
        ],
        [
         "2012-07-30 00:00:00",
         "2.020900011062622",
         "2.0364999771118164",
         "2.0018999576568604",
         "2.0211000442504883"
        ],
        [
         "2024-12-04 00:00:00",
         "6.043099880218506",
         "6.071800231933594",
         "6.025000095367432",
         "6.043099880218506"
        ],
        [
         "2024-08-21 00:00:00",
         "5.478099822998047",
         "5.483799934387207",
         "5.458799839019775",
         "5.478099822998047"
        ]
       ],
       "shape": {
        "columns": 4,
        "rows": 5
       }
      },
      "text/html": [
       "<div>\n",
       "<style scoped>\n",
       "    .dataframe tbody tr th:only-of-type {\n",
       "        vertical-align: middle;\n",
       "    }\n",
       "\n",
       "    .dataframe tbody tr th {\n",
       "        vertical-align: top;\n",
       "    }\n",
       "\n",
       "    .dataframe thead th {\n",
       "        text-align: right;\n",
       "    }\n",
       "</style>\n",
       "<table border=\"1\" class=\"dataframe\">\n",
       "  <thead>\n",
       "    <tr style=\"text-align: right;\">\n",
       "      <th></th>\n",
       "      <th>Close</th>\n",
       "      <th>High</th>\n",
       "      <th>Low</th>\n",
       "      <th>Open</th>\n",
       "    </tr>\n",
       "    <tr>\n",
       "      <th>Date</th>\n",
       "      <th></th>\n",
       "      <th></th>\n",
       "      <th></th>\n",
       "      <th></th>\n",
       "    </tr>\n",
       "  </thead>\n",
       "  <tbody>\n",
       "    <tr>\n",
       "      <th>2011-08-12</th>\n",
       "      <td>1.6233</td>\n",
       "      <td>1.6253</td>\n",
       "      <td>1.6045</td>\n",
       "      <td>1.6224</td>\n",
       "    </tr>\n",
       "    <tr>\n",
       "      <th>2012-05-25</th>\n",
       "      <td>2.0274</td>\n",
       "      <td>2.0360</td>\n",
       "      <td>1.9881</td>\n",
       "      <td>2.0272</td>\n",
       "    </tr>\n",
       "    <tr>\n",
       "      <th>2012-07-30</th>\n",
       "      <td>2.0209</td>\n",
       "      <td>2.0365</td>\n",
       "      <td>2.0019</td>\n",
       "      <td>2.0211</td>\n",
       "    </tr>\n",
       "    <tr>\n",
       "      <th>2024-12-04</th>\n",
       "      <td>6.0431</td>\n",
       "      <td>6.0718</td>\n",
       "      <td>6.0250</td>\n",
       "      <td>6.0431</td>\n",
       "    </tr>\n",
       "    <tr>\n",
       "      <th>2024-08-21</th>\n",
       "      <td>5.4781</td>\n",
       "      <td>5.4838</td>\n",
       "      <td>5.4588</td>\n",
       "      <td>5.4781</td>\n",
       "    </tr>\n",
       "  </tbody>\n",
       "</table>\n",
       "</div>"
      ],
      "text/plain": [
       "             Close    High     Low    Open\n",
       "Date                                      \n",
       "2011-08-12  1.6233  1.6253  1.6045  1.6224\n",
       "2012-05-25  2.0274  2.0360  1.9881  2.0272\n",
       "2012-07-30  2.0209  2.0365  2.0019  2.0211\n",
       "2024-12-04  6.0431  6.0718  6.0250  6.0431\n",
       "2024-08-21  5.4781  5.4838  5.4588  5.4781"
      ]
     },
     "execution_count": 7,
     "metadata": {},
     "output_type": "execute_result"
    }
   ],
   "source": [
    "# Display a random sample of the data for verification\n",
    "print(\"Random sample of 5 records:\")\n",
    "data.sample(5)"
   ]
  },
  {
   "cell_type": "code",
   "execution_count": 8,
   "id": "b77744c3",
   "metadata": {},
   "outputs": [
    {
     "name": "stdout",
     "output_type": "stream",
     "text": [
      "Descriptive statistics:\n"
     ]
    },
    {
     "data": {
      "application/vnd.microsoft.datawrangler.viewer.v0+json": {
       "columns": [
        {
         "name": "index",
         "rawType": "object",
         "type": "string"
        },
        {
         "name": "Close",
         "rawType": "float64",
         "type": "float"
        },
        {
         "name": "High",
         "rawType": "float64",
         "type": "float"
        },
        {
         "name": "Low",
         "rawType": "float64",
         "type": "float"
        },
        {
         "name": "Open",
         "rawType": "float64",
         "type": "float"
        }
       ],
       "ref": "b1380fcc-e5a2-4ad1-b6f6-95d5383a5abd",
       "rows": [
        [
         "count",
         "4116.0",
         "4116.0",
         "4116.0",
         "4116.0"
        ],
        [
         "mean",
         "3.677728268507039",
         "3.7008612639007348",
         "3.6514188264676735",
         "3.6743197224172603"
        ],
        [
         "std",
         "1.4061884811832979",
         "1.416314908256176",
         "1.4009530102606402",
         "1.410528632902129"
        ],
        [
         "min",
         "1.5336999893188477",
         "1.544100046157837",
         "1.5252000093460083",
         "1.5336999893188477"
        ],
        [
         "25%",
         "2.242675006389618",
         "2.2557749152183533",
         "2.2272250652313232",
         "2.241849958896637"
        ],
        [
         "50%",
         "3.684849977493286",
         "3.7185999155044556",
         "3.6689000129699707",
         "3.692850112915039"
        ],
        [
         "75%",
         "5.120124936103821",
         "5.155600070953369",
         "5.081191897392273",
         "5.121724843978882"
        ],
        [
         "max",
         "6.300000190734863",
         "6.411099910736084",
         "6.181506156921387",
         "6.297999858856201"
        ]
       ],
       "shape": {
        "columns": 4,
        "rows": 8
       }
      },
      "text/html": [
       "<div>\n",
       "<style scoped>\n",
       "    .dataframe tbody tr th:only-of-type {\n",
       "        vertical-align: middle;\n",
       "    }\n",
       "\n",
       "    .dataframe tbody tr th {\n",
       "        vertical-align: top;\n",
       "    }\n",
       "\n",
       "    .dataframe thead th {\n",
       "        text-align: right;\n",
       "    }\n",
       "</style>\n",
       "<table border=\"1\" class=\"dataframe\">\n",
       "  <thead>\n",
       "    <tr style=\"text-align: right;\">\n",
       "      <th></th>\n",
       "      <th>Close</th>\n",
       "      <th>High</th>\n",
       "      <th>Low</th>\n",
       "      <th>Open</th>\n",
       "    </tr>\n",
       "  </thead>\n",
       "  <tbody>\n",
       "    <tr>\n",
       "      <th>count</th>\n",
       "      <td>4116.000000</td>\n",
       "      <td>4116.000000</td>\n",
       "      <td>4116.000000</td>\n",
       "      <td>4116.000000</td>\n",
       "    </tr>\n",
       "    <tr>\n",
       "      <th>mean</th>\n",
       "      <td>3.677728</td>\n",
       "      <td>3.700861</td>\n",
       "      <td>3.651419</td>\n",
       "      <td>3.674320</td>\n",
       "    </tr>\n",
       "    <tr>\n",
       "      <th>std</th>\n",
       "      <td>1.406188</td>\n",
       "      <td>1.416315</td>\n",
       "      <td>1.400953</td>\n",
       "      <td>1.410529</td>\n",
       "    </tr>\n",
       "    <tr>\n",
       "      <th>min</th>\n",
       "      <td>1.533700</td>\n",
       "      <td>1.544100</td>\n",
       "      <td>1.525200</td>\n",
       "      <td>1.533700</td>\n",
       "    </tr>\n",
       "    <tr>\n",
       "      <th>25%</th>\n",
       "      <td>2.242675</td>\n",
       "      <td>2.255775</td>\n",
       "      <td>2.227225</td>\n",
       "      <td>2.241850</td>\n",
       "    </tr>\n",
       "    <tr>\n",
       "      <th>50%</th>\n",
       "      <td>3.684850</td>\n",
       "      <td>3.718600</td>\n",
       "      <td>3.668900</td>\n",
       "      <td>3.692850</td>\n",
       "    </tr>\n",
       "    <tr>\n",
       "      <th>75%</th>\n",
       "      <td>5.120125</td>\n",
       "      <td>5.155600</td>\n",
       "      <td>5.081192</td>\n",
       "      <td>5.121725</td>\n",
       "    </tr>\n",
       "    <tr>\n",
       "      <th>max</th>\n",
       "      <td>6.300000</td>\n",
       "      <td>6.411100</td>\n",
       "      <td>6.181506</td>\n",
       "      <td>6.298000</td>\n",
       "    </tr>\n",
       "  </tbody>\n",
       "</table>\n",
       "</div>"
      ],
      "text/plain": [
       "             Close         High          Low         Open\n",
       "count  4116.000000  4116.000000  4116.000000  4116.000000\n",
       "mean      3.677728     3.700861     3.651419     3.674320\n",
       "std       1.406188     1.416315     1.400953     1.410529\n",
       "min       1.533700     1.544100     1.525200     1.533700\n",
       "25%       2.242675     2.255775     2.227225     2.241850\n",
       "50%       3.684850     3.718600     3.668900     3.692850\n",
       "75%       5.120125     5.155600     5.081192     5.121725\n",
       "max       6.300000     6.411100     6.181506     6.298000"
      ]
     },
     "execution_count": 8,
     "metadata": {},
     "output_type": "execute_result"
    }
   ],
   "source": [
    "# Display basic statistics\n",
    "print(\"Descriptive statistics:\")\n",
    "data.describe()"
   ]
  },
  {
   "cell_type": "markdown",
   "id": "18545863",
   "metadata": {},
   "source": [
    "## Summary\n",
    "\n",
    "Data acquisition completed successfully:\n",
    "- Downloaded historical BRL=X data from Yahoo Finance\n",
    "- Cleaned and standardized column names\n",
    "- Removed unnecessary Volume column\n",
    "- Saved to `data/raw/BRL_X_raw.csv`\n",
    "\n",
    "## Next Steps\n",
    "Proceed to `02_feature_creation.ipynb` to:\n",
    "- Calculate technical indicators \n",
    "- Create lagged features\n",
    "- Generate rolling statistics\n",
    "- Define target variable (price direction)"
   ]
  }
 ],
 "metadata": {
  "kernelspec": {
   "display_name": "ml_env",
   "language": "python",
   "name": "python3"
  },
  "language_info": {
   "codemirror_mode": {
    "name": "ipython",
    "version": 3
   },
   "file_extension": ".py",
   "mimetype": "text/x-python",
   "name": "python",
   "nbconvert_exporter": "python",
   "pygments_lexer": "ipython3",
   "version": "3.11.6"
  }
 },
 "nbformat": 4,
 "nbformat_minor": 5
}
